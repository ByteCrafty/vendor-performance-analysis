{
 "cells": [
  {
   "cell_type": "code",
   "execution_count": 1,
   "id": "71eac120-1ed5-4c45-842d-5b7104aeb202",
   "metadata": {},
   "outputs": [],
   "source": [
    "# Use this script to save csv files into database with their filename as tablename\n",
    "import pandas as pd\n",
    "import os\n",
    "from sqlalchemy import create_engine\n",
    "import logging\n",
    "import time\n",
    "\n",
    "# Configure logging\n",
    "logging.basicConfig(\n",
    "    filename=\"logs/ingestion_db.log\", \n",
    "    level=logging.DEBUG,\n",
    "    format=\"%(asctime)s - %(levelname)s - %(message)s\", \n",
    "    filemode=\"a\"  \n",
    ")\n",
    "\n",
    "# Path to MY CSV folder\n",
    "DATA_PATH = r\"C:\\Users\\Manish\\OneDrive\\Desktop\\Vendor Performance Analysis\\data\"\n",
    "\n",
    "# Create SQLite database connection\n",
    "engine = create_engine('sqlite:///inventory.db')\n",
    "\n",
    "def ingest_db(df, table_name, engine):\n",
    "    \"\"\"Ingests the dataframe into database table\"\"\"\n",
    "    df.to_sql(table_name, con=engine, if_exists='replace', index=False)\n",
    "\n",
    "def load_raw_data():\n",
    "    \"\"\"Loads all CSVs as dataframe and ingests into db\"\"\"\n",
    "    start = time.time()\n",
    "    \n",
    "    if not os.path.exists(DATA_PATH):\n",
    "        logging.error(f\"Data folder not found: {DATA_PATH}\")\n",
    "        return\n",
    "    \n",
    "    for file in os.listdir(DATA_PATH):\n",
    "        if file.endswith('.csv'):\n",
    "            file_path = os.path.join(DATA_PATH, file)\n",
    "            try:\n",
    "                df = pd.read_csv(file_path)\n",
    "                logging.info(f'Ingesting {file} into db')\n",
    "                ingest_db(df, file[:-4], engine)\n",
    "            except Exception as e:\n",
    "                logging.error(f\"Error processing {file}: {str(e)}\")\n",
    "    \n",
    "    end = time.time()\n",
    "    total_time = (end - start)/60\n",
    "    logging.info('--------------Ingestion Complete------------')\n",
    "    logging.info(f'Total Time Taken: {total_time:.2f} minutes')\n",
    "\n",
    "if __name__ == '__main__':\n",
    "    load_raw_data()\n"
   ]
  },
  {
   "cell_type": "code",
   "execution_count": null,
   "id": "72d35403-63ac-4c11-b7ed-272056ec06af",
   "metadata": {},
   "outputs": [],
   "source": []
  }
 ],
 "metadata": {
  "kernelspec": {
   "display_name": "Python 3 (ipykernel)",
   "language": "python",
   "name": "python3"
  },
  "language_info": {
   "codemirror_mode": {
    "name": "ipython",
    "version": 3
   },
   "file_extension": ".py",
   "mimetype": "text/x-python",
   "name": "python",
   "nbconvert_exporter": "python",
   "pygments_lexer": "ipython3",
   "version": "3.12.4"
  },
  "widgets": {
   "application/vnd.jupyter.widget-state+json": {
    "state": {},
    "version_major": 2,
    "version_minor": 0
   }
  }
 },
 "nbformat": 4,
 "nbformat_minor": 5
}
